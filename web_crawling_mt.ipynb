{
  "cells": [
    {
      "cell_type": "markdown",
      "metadata": {
        "id": "view-in-github",
        "colab_type": "text"
      },
      "source": [
        "<a href=\"https://colab.research.google.com/github/Harsimran-Dalal/Web-crawler/blob/main/web_crawling_mt.ipynb\" target=\"_parent\"><img src=\"https://colab.research.google.com/assets/colab-badge.svg\" alt=\"Open In Colab\"/></a>"
      ]
    },
    {
      "cell_type": "code",
      "execution_count": 1,
      "metadata": {
        "execution": {
          "iopub.execute_input": "2022-12-26T10:04:35.948026Z",
          "iopub.status.busy": "2022-12-26T10:04:35.947633Z",
          "iopub.status.idle": "2022-12-26T10:05:06.892132Z",
          "shell.execute_reply": "2022-12-26T10:05:06.890969Z",
          "shell.execute_reply.started": "2022-12-26T10:04:35.947994Z"
        },
        "trusted": true,
        "id": "FNq6jU_HjaG3"
      },
      "outputs": [],
      "source": [
        "!pip install requests-html &> \\dev\\null\n",
        "!pip install re  &> \\dev\\null\n",
        "!pip install request  &> \\dev\\null\n",
        "!pip install bs4  &> \\dev\\null"
      ]
    },
    {
      "cell_type": "code",
      "execution_count": 2,
      "metadata": {
        "execution": {
          "iopub.execute_input": "2022-12-26T10:05:06.904446Z",
          "iopub.status.busy": "2022-12-26T10:05:06.903610Z",
          "iopub.status.idle": "2022-12-26T10:05:06.918106Z",
          "shell.execute_reply": "2022-12-26T10:05:06.916982Z",
          "shell.execute_reply.started": "2022-12-26T10:05:06.904409Z"
        },
        "trusted": true,
        "id": "BPUO7soCjaHB"
      },
      "outputs": [],
      "source": [
        "import re\n",
        "import pandas as pd\n",
        "import requests\n",
        "from bs4 import BeautifulSoup\n",
        "from collections import deque\n",
        "from urllib.parse import urlsplit\n",
        "import pandas as pd\n",
        "from requests_html import HTMLSession\n",
        "import threading\n",
        "import time\n",
        "from tqdm import tqdm"
      ]
    },
    {
      "cell_type": "code",
      "execution_count": 3,
      "metadata": {
        "execution": {
          "iopub.execute_input": "2022-12-26T10:05:06.921811Z",
          "iopub.status.busy": "2022-12-26T10:05:06.921045Z",
          "iopub.status.idle": "2022-12-26T10:05:06.933536Z",
          "shell.execute_reply": "2022-12-26T10:05:06.931924Z",
          "shell.execute_reply.started": "2022-12-26T10:05:06.921767Z"
        },
        "trusted": true,
        "id": "O8XrpB4WjaHF"
      },
      "outputs": [],
      "source": [
        "#user_url = \"https://www.thapar.edu/sitemap.xml\"\n",
        "#url = [\"https://www.thapar.edu\"]\n",
        "EMAIL_REGEX = r\"\"\"(?:[a-z0-9!#$%&'*+/=?^_`{|}~-]+(?:\\.[a-z0-9!#$%&'*+/=?^_`{|}~-]+)*|\"(?:[\\x01-\\x08\\x0b\\x0c\\x0e-\\x1f\\x21\\x23-\\x5b\\x5d-\\x7f]|\\\\[\\x01-\\x09\\x0b\\x0c\\x0e-\\x7f])*\")@(?:(?:[a-z0-9](?:[a-z0-9-]*[a-z0-9])?\\.)+[a-z0-9](?:[a-z0-9-]*[a-z0-9])?|\\[(?:(?:(2(5[0-5]|[0-4][0-9])|1[0-9][0-9]|[1-9]?[0-9]))\\.){3}(?:(2(5[0-5]|[0-4][0-9])|1[0-9][0-9]|[1-9]?[0-9])|[a-z0-9-]*[a-z0-9]:(?:[\\x01-\\x08\\x0b\\x0c\\x0e-\\x1f\\x21-\\x5a\\x53-\\x7f]|\\\\[\\x01-\\x09\\x0b\\x0c\\x0e-\\x7f])+)\\])\"\"\""
      ]
    },
    {
      "cell_type": "code",
      "execution_count": 4,
      "metadata": {
        "execution": {
          "iopub.execute_input": "2022-12-26T10:05:06.936434Z",
          "iopub.status.busy": "2022-12-26T10:05:06.936048Z",
          "iopub.status.idle": "2022-12-26T10:05:09.351623Z",
          "shell.execute_reply": "2022-12-26T10:05:09.350425Z",
          "shell.execute_reply.started": "2022-12-26T10:05:06.936398Z"
        },
        "trusted": true,
        "id": "xw51GoK6jaHJ",
        "colab": {
          "base_uri": "https://localhost:8080/"
        },
        "outputId": "22691921-d914-4ee0-c56f-4ee5914a7885"
      },
      "outputs": [
        {
          "output_type": "stream",
          "name": "stderr",
          "text": [
            "<ipython-input-4-1f737a625830>:4: XMLParsedAsHTMLWarning: It looks like you're parsing an XML document using an HTML parser. If this really is an HTML document (maybe it's XHTML?), you can ignore or filter this warning. If it's XML, you should know that using an XML parser will be more reliable. To parse this document as XML, make sure you have the lxml package installed, and pass the keyword argument `features=\"xml\"` into the BeautifulSoup constructor.\n",
            "  soup = BeautifulSoup(xml)\n"
          ]
        }
      ],
      "source": [
        "def get_urls_of_xml(xml_url):\n",
        "    r = requests.get(xml_url)\n",
        "    xml = r.text\n",
        "    soup = BeautifulSoup(xml)\n",
        "\n",
        "    links_arr = []\n",
        "    for link in soup.findAll('loc'):\n",
        "        linkstr = link.getText('', True)\n",
        "        links_arr.append(linkstr)\n",
        "\n",
        "    return links_arr\n",
        "\n",
        "\n",
        "\n",
        "links_data_arr = get_urls_of_xml(\"https://thapar.edu/sitemap.xml\")\n",
        "#print(links_data_arr)\n"
      ]
    },
    {
      "cell_type": "code",
      "execution_count": 5,
      "metadata": {
        "execution": {
          "iopub.execute_input": "2022-12-26T10:05:09.357183Z",
          "iopub.status.busy": "2022-12-26T10:05:09.356725Z",
          "iopub.status.idle": "2022-12-26T10:05:09.364213Z",
          "shell.execute_reply": "2022-12-26T10:05:09.362512Z",
          "shell.execute_reply.started": "2022-12-26T10:05:09.357144Z"
        },
        "trusted": true,
        "id": "2p6hNPpAjaHM"
      },
      "outputs": [],
      "source": [
        "session = HTMLSession()"
      ]
    },
    {
      "cell_type": "code",
      "execution_count": null,
      "metadata": {
        "execution": {
          "iopub.execute_input": "2022-12-26T10:05:17.089462Z",
          "iopub.status.busy": "2022-12-26T10:05:17.089017Z",
          "iopub.status.idle": "2022-12-26T10:17:47.278602Z",
          "shell.execute_reply": "2022-12-26T10:17:47.277052Z",
          "shell.execute_reply.started": "2022-12-26T10:05:17.089423Z"
        },
        "trusted": true,
        "id": "i1gl4dsJjaHO",
        "colab": {
          "base_uri": "https://localhost:8080/"
        },
        "outputId": "913f333b-3b56-43fe-bc29-57071628f63e"
      },
      "outputs": [
        {
          "output_type": "stream",
          "name": "stderr",
          "text": [
            "  2%|▏         | 88/4342 [02:13<2:05:06,  1.76s/it]"
          ]
        },
        {
          "output_type": "stream",
          "name": "stdout",
          "text": [
            "Error fetching http://tslas.thapar.edu/faq: 404 Client Error: Not Found for url: https://tslas.thapar.edu/faq\n"
          ]
        },
        {
          "output_type": "stream",
          "name": "stderr",
          "text": [
            "\r  2%|▏         | 89/4342 [02:14<1:55:04,  1.62s/it]"
          ]
        },
        {
          "output_type": "stream",
          "name": "stdout",
          "text": [
            "Error fetching http://tslas.thapar.edu/how-to-apply: 404 Client Error: Not Found for url: https://tslas.thapar.edu/how-to-apply\n"
          ]
        },
        {
          "output_type": "stream",
          "name": "stderr",
          "text": [
            "\r  2%|▏         | 90/4342 [02:16<1:59:03,  1.68s/it]"
          ]
        },
        {
          "output_type": "stream",
          "name": "stdout",
          "text": [
            "Error fetching http://tslas.thapar.edu/faculties: 404 Client Error: Not Found for url: https://tslas.thapar.edu/faculties\n"
          ]
        },
        {
          "output_type": "stream",
          "name": "stderr",
          "text": [
            "\r  2%|▏         | 91/4342 [02:18<2:00:26,  1.70s/it]"
          ]
        },
        {
          "output_type": "stream",
          "name": "stdout",
          "text": [
            "Error fetching http://tslas.thapar.edu/misces/tenderlist: 404 Client Error: Not Found for url: https://tslas.thapar.edu/misces/tenderlist\n"
          ]
        },
        {
          "output_type": "stream",
          "name": "stderr",
          "text": [
            "\r  2%|▏         | 92/4342 [02:19<2:02:17,  1.73s/it]"
          ]
        },
        {
          "output_type": "stream",
          "name": "stdout",
          "text": [
            "Error fetching http://tslas.thapar.edu/misces/pages/naac-2018: 404 Client Error: Not Found for url: https://tslas.thapar.edu/misces/pages/naac-2018\n"
          ]
        },
        {
          "output_type": "stream",
          "name": "stderr",
          "text": [
            "\r  2%|▏         | 93/4342 [02:21<2:03:52,  1.75s/it]"
          ]
        },
        {
          "output_type": "stream",
          "name": "stdout",
          "text": [
            "Error fetching http://tslas.thapar.edu/academics: 404 Client Error: Not Found for url: https://tslas.thapar.edu/academics\n"
          ]
        },
        {
          "output_type": "stream",
          "name": "stderr",
          "text": [
            "\r  2%|▏         | 94/4342 [02:23<2:03:55,  1.75s/it]"
          ]
        },
        {
          "output_type": "stream",
          "name": "stdout",
          "text": [
            "Error fetching http://tslas.thapar.edu/aboutus/pages/financial: 404 Client Error: Not Found for url: https://tslas.thapar.edu/aboutus/pages/financial\n"
          ]
        },
        {
          "output_type": "stream",
          "name": "stderr",
          "text": [
            "\r  2%|▏         | 95/4342 [02:25<2:04:32,  1.76s/it]"
          ]
        },
        {
          "output_type": "stream",
          "name": "stdout",
          "text": [
            "Error fetching http://tslas.thapar.edu/misces/pages/eia-clearance: 404 Client Error: Not Found for url: https://tslas.thapar.edu/misces/pages/eia-clearance\n"
          ]
        },
        {
          "output_type": "stream",
          "name": "stderr",
          "text": [
            "\r  2%|▏         | 96/4342 [02:27<2:04:24,  1.76s/it]"
          ]
        },
        {
          "output_type": "stream",
          "name": "stdout",
          "text": [
            "Error fetching http://tslas.thapar.edu/misces: 404 Client Error: Not Found for url: https://tslas.thapar.edu/misces\n"
          ]
        },
        {
          "output_type": "stream",
          "name": "stderr",
          "text": [
            "\r  2%|▏         | 97/4342 [02:28<2:04:05,  1.75s/it]"
          ]
        },
        {
          "output_type": "stream",
          "name": "stdout",
          "text": [
            "Error fetching http://tslas.thapar.edu/misces/pages/pulse: 404 Client Error: Not Found for url: https://tslas.thapar.edu/misces/pages/pulse\n"
          ]
        },
        {
          "output_type": "stream",
          "name": "stderr",
          "text": [
            "\r  2%|▏         | 98/4342 [02:30<2:03:57,  1.75s/it]"
          ]
        },
        {
          "output_type": "stream",
          "name": "stdout",
          "text": [
            "Error fetching http://tslas.thapar.edu/placements/careers: 404 Client Error: Not Found for url: https://tslas.thapar.edu/placements/careers\n"
          ]
        },
        {
          "output_type": "stream",
          "name": "stderr",
          "text": [
            "\r  2%|▏         | 99/4342 [02:32<2:04:13,  1.76s/it]"
          ]
        },
        {
          "output_type": "stream",
          "name": "stdout",
          "text": [
            "Error fetching http://tslas.thapar.edu/outreaches/pages: 404 Client Error: Not Found for url: https://tslas.thapar.edu/outreaches/pages\n"
          ]
        },
        {
          "output_type": "stream",
          "name": "stderr",
          "text": [
            "\r  2%|▏         | 100/4342 [02:34<2:03:47,  1.75s/it]"
          ]
        },
        {
          "output_type": "stream",
          "name": "stdout",
          "text": [
            "Error fetching http://tslas.thapar.edu/misces/latestupdated: 404 Client Error: Not Found for url: https://tslas.thapar.edu/misces/latestupdated\n"
          ]
        },
        {
          "output_type": "stream",
          "name": "stderr",
          "text": [
            "  3%|▎         | 122/4342 [03:10<1:53:24,  1.61s/it]"
          ]
        },
        {
          "output_type": "stream",
          "name": "stdout",
          "text": [
            "Error fetching http://thapar.edu/aboutus/news?page=2: 404 Client Error: Not Found for url: https://www.thapar.edu/aboutus/news?page=2\n"
          ]
        },
        {
          "output_type": "stream",
          "name": "stderr",
          "text": [
            "  3%|▎         | 146/4342 [03:50<1:38:25,  1.41s/it]"
          ]
        },
        {
          "output_type": "stream",
          "name": "stdout",
          "text": [
            "Error fetching http://liberalartsform.thapar.edu/testform.php: 404 Client Error: Not Found for url: https://updated.thapar.edu/testform.php\n"
          ]
        },
        {
          "output_type": "stream",
          "name": "stderr",
          "text": [
            " 12%|█▏        | 530/4342 [13:51<1:25:04,  1.34s/it]"
          ]
        },
        {
          "output_type": "stream",
          "name": "stdout",
          "text": [
            "Error fetching http://tslas.thapar.edu/facultydetails/MTM3Mg==: 404 Client Error: Not Found for url: https://tslas.thapar.edu/facultydetails/MTM3Mg==\n"
          ]
        },
        {
          "output_type": "stream",
          "name": "stderr",
          "text": [
            "\r 12%|█▏        | 531/4342 [13:53<1:36:40,  1.52s/it]"
          ]
        },
        {
          "output_type": "stream",
          "name": "stdout",
          "text": [
            "Error fetching http://tslas.thapar.edu/facultydetails/MTM3NQ==: 404 Client Error: Not Found for url: https://tslas.thapar.edu/facultydetails/MTM3NQ==\n"
          ]
        },
        {
          "output_type": "stream",
          "name": "stderr",
          "text": [
            "\r 12%|█▏        | 532/4342 [13:55<1:40:59,  1.59s/it]"
          ]
        },
        {
          "output_type": "stream",
          "name": "stdout",
          "text": [
            "Error fetching http://tslas.thapar.edu/facultydetails/MTM3MA==: 404 Client Error: Not Found for url: https://tslas.thapar.edu/facultydetails/MTM3MA==\n"
          ]
        },
        {
          "output_type": "stream",
          "name": "stderr",
          "text": [
            "\r 12%|█▏        | 533/4342 [13:57<1:44:41,  1.65s/it]"
          ]
        },
        {
          "output_type": "stream",
          "name": "stdout",
          "text": [
            "Error fetching http://tslas.thapar.edu/facultydetails/MTM4NQ==: 404 Client Error: Not Found for url: https://tslas.thapar.edu/facultydetails/MTM4NQ==\n"
          ]
        },
        {
          "output_type": "stream",
          "name": "stderr",
          "text": [
            "\r 12%|█▏        | 534/4342 [13:58<1:46:57,  1.69s/it]"
          ]
        },
        {
          "output_type": "stream",
          "name": "stdout",
          "text": [
            "Error fetching http://tslas.thapar.edu/facultydetails/MTM3Mw==: 404 Client Error: Not Found for url: https://tslas.thapar.edu/facultydetails/MTM3Mw==\n"
          ]
        },
        {
          "output_type": "stream",
          "name": "stderr",
          "text": [
            "\r 12%|█▏        | 535/4342 [14:00<1:49:53,  1.73s/it]"
          ]
        },
        {
          "output_type": "stream",
          "name": "stdout",
          "text": [
            "Error fetching http://tslas.thapar.edu/facultydetails/MTM4MA==: 404 Client Error: Not Found for url: https://tslas.thapar.edu/facultydetails/MTM4MA==\n"
          ]
        },
        {
          "output_type": "stream",
          "name": "stderr",
          "text": [
            "\r 12%|█▏        | 536/4342 [14:02<1:50:32,  1.74s/it]"
          ]
        },
        {
          "output_type": "stream",
          "name": "stdout",
          "text": [
            "Error fetching http://tslas.thapar.edu/facultydetails/MTM4NA==: 404 Client Error: Not Found for url: https://tslas.thapar.edu/facultydetails/MTM4NA==\n"
          ]
        },
        {
          "output_type": "stream",
          "name": "stderr",
          "text": [
            "\r 12%|█▏        | 537/4342 [14:04<1:50:43,  1.75s/it]"
          ]
        },
        {
          "output_type": "stream",
          "name": "stdout",
          "text": [
            "Error fetching http://tslas.thapar.edu/facultydetails/MTM3MQ==: 404 Client Error: Not Found for url: https://tslas.thapar.edu/facultydetails/MTM3MQ==\n"
          ]
        },
        {
          "output_type": "stream",
          "name": "stderr",
          "text": [
            "\r 12%|█▏        | 538/4342 [14:06<1:51:02,  1.75s/it]"
          ]
        },
        {
          "output_type": "stream",
          "name": "stdout",
          "text": [
            "Error fetching http://tslas.thapar.edu/facultydetails/MTM3Ng==: 404 Client Error: Not Found for url: https://tslas.thapar.edu/facultydetails/MTM3Ng==\n"
          ]
        },
        {
          "output_type": "stream",
          "name": "stderr",
          "text": [
            "\r 12%|█▏        | 539/4342 [14:07<1:51:57,  1.77s/it]"
          ]
        },
        {
          "output_type": "stream",
          "name": "stdout",
          "text": [
            "Error fetching http://tslas.thapar.edu/facultydetails/MTM3OA==: 404 Client Error: Not Found for url: https://tslas.thapar.edu/facultydetails/MTM3OA==\n"
          ]
        },
        {
          "output_type": "stream",
          "name": "stderr",
          "text": [
            "\r 12%|█▏        | 540/4342 [14:09<1:52:13,  1.77s/it]"
          ]
        },
        {
          "output_type": "stream",
          "name": "stdout",
          "text": [
            "Error fetching http://tslas.thapar.edu/facultydetails/MTM3NA==: 404 Client Error: Not Found for url: https://tslas.thapar.edu/facultydetails/MTM3NA==\n"
          ]
        },
        {
          "output_type": "stream",
          "name": "stderr",
          "text": [
            "\r 12%|█▏        | 541/4342 [14:11<1:53:03,  1.78s/it]"
          ]
        },
        {
          "output_type": "stream",
          "name": "stdout",
          "text": [
            "Error fetching http://tslas.thapar.edu/facultydetails/MTM4MQ==: 404 Client Error: Not Found for url: https://tslas.thapar.edu/facultydetails/MTM4MQ==\n"
          ]
        },
        {
          "output_type": "stream",
          "name": "stderr",
          "text": [
            "\r 12%|█▏        | 542/4342 [14:13<1:52:10,  1.77s/it]"
          ]
        },
        {
          "output_type": "stream",
          "name": "stdout",
          "text": [
            "Error fetching http://tslas.thapar.edu/facultydetails/MTM3Nw==: 404 Client Error: Not Found for url: https://tslas.thapar.edu/facultydetails/MTM3Nw==\n"
          ]
        },
        {
          "output_type": "stream",
          "name": "stderr",
          "text": [
            "\r 13%|█▎        | 543/4342 [14:14<1:51:57,  1.77s/it]"
          ]
        },
        {
          "output_type": "stream",
          "name": "stdout",
          "text": [
            "Error fetching http://tslas.thapar.edu/facultydetails/MTM3OQ==: 404 Client Error: Not Found for url: https://tslas.thapar.edu/facultydetails/MTM3OQ==\n"
          ]
        },
        {
          "output_type": "stream",
          "name": "stderr",
          "text": [
            "\r 13%|█▎        | 544/4342 [14:16<1:51:38,  1.76s/it]"
          ]
        },
        {
          "output_type": "stream",
          "name": "stdout",
          "text": [
            "Error fetching http://tslas.thapar.edu/facultydetails/MTM4Ng==: 404 Client Error: Not Found for url: https://tslas.thapar.edu/facultydetails/MTM4Ng==\n"
          ]
        },
        {
          "output_type": "stream",
          "name": "stderr",
          "text": [
            "\r 13%|█▎        | 545/4342 [14:18<1:51:39,  1.76s/it]"
          ]
        },
        {
          "output_type": "stream",
          "name": "stdout",
          "text": [
            "Error fetching http://tslas.thapar.edu/facultydetails/MTM4Mw==: 404 Client Error: Not Found for url: https://tslas.thapar.edu/facultydetails/MTM4Mw==\n"
          ]
        },
        {
          "output_type": "stream",
          "name": "stderr",
          "text": [
            "\r 13%|█▎        | 546/4342 [14:20<1:51:53,  1.77s/it]"
          ]
        },
        {
          "output_type": "stream",
          "name": "stdout",
          "text": [
            "Error fetching http://tslas.thapar.edu/facultydetails/MTM4Mg==: 404 Client Error: Not Found for url: https://tslas.thapar.edu/facultydetails/MTM4Mg==\n"
          ]
        },
        {
          "output_type": "stream",
          "name": "stderr",
          "text": [
            "\r 13%|█▎        | 547/4342 [14:22<1:51:57,  1.77s/it]"
          ]
        },
        {
          "output_type": "stream",
          "name": "stdout",
          "text": [
            "Error fetching http://tslas.thapar.edu/aboutus: 404 Client Error: Not Found for url: https://tslas.thapar.edu/aboutus\n"
          ]
        },
        {
          "output_type": "stream",
          "name": "stderr",
          "text": [
            " 13%|█▎        | 549/4342 [14:25<1:52:47,  1.78s/it]"
          ]
        },
        {
          "output_type": "stream",
          "name": "stdout",
          "text": [
            "Error fetching http://tslas.thapar.edu/researches: 404 Client Error: Not Found for url: https://tslas.thapar.edu/researches\n"
          ]
        },
        {
          "output_type": "stream",
          "name": "stderr",
          "text": [
            "\r 13%|█▎        | 550/4342 [14:26<1:43:52,  1.64s/it]"
          ]
        },
        {
          "output_type": "stream",
          "name": "stdout",
          "text": [
            "Error fetching http://tslas.thapar.edu/programmes: 404 Client Error: Not Found for url: https://tslas.thapar.edu/programmes\n"
          ]
        },
        {
          "output_type": "stream",
          "name": "stderr",
          "text": [
            "\r 13%|█▎        | 551/4342 [14:28<1:46:17,  1.68s/it]"
          ]
        },
        {
          "output_type": "stream",
          "name": "stdout",
          "text": [
            "Error fetching http://tslas.thapar.edu/students: 404 Client Error: Not Found for url: https://tslas.thapar.edu/students\n"
          ]
        },
        {
          "output_type": "stream",
          "name": "stderr",
          "text": [
            "\r 13%|█▎        | 552/4342 [14:30<1:47:32,  1.70s/it]"
          ]
        },
        {
          "output_type": "stream",
          "name": "stdout",
          "text": [
            "Error fetching http://tslas.thapar.edu/placements: 500 Server Error: Internal Server Error for url: https://tslas.thapar.edu/placements\n"
          ]
        },
        {
          "output_type": "stream",
          "name": "stderr",
          "text": [
            "\r 13%|█▎        | 553/4342 [14:32<2:00:15,  1.90s/it]"
          ]
        },
        {
          "output_type": "stream",
          "name": "stdout",
          "text": [
            "Error fetching http://tslas.thapar.edu/students/parents: 404 Client Error: Not Found for url: https://tslas.thapar.edu/students/parents\n"
          ]
        },
        {
          "output_type": "stream",
          "name": "stderr",
          "text": [
            "\r 13%|█▎        | 554/4342 [14:34<1:58:13,  1.87s/it]"
          ]
        },
        {
          "output_type": "stream",
          "name": "stdout",
          "text": [
            "Error fetching http://tslas.thapar.edu/contemporisation: 404 Client Error: Not Found for url: https://tslas.thapar.edu/contemporisation\n"
          ]
        },
        {
          "output_type": "stream",
          "name": "stderr",
          "text": [
            "\r 13%|█▎        | 555/4342 [14:36<1:55:53,  1.84s/it]"
          ]
        },
        {
          "output_type": "stream",
          "name": "stdout",
          "text": [
            "Error fetching http://tslas.thapar.edu/pages/contactus: 404 Client Error: Not Found for url: https://tslas.thapar.edu/pages/contactus\n"
          ]
        },
        {
          "output_type": "stream",
          "name": "stderr",
          "text": [
            "\r 13%|█▎        | 556/4342 [14:38<1:53:45,  1.80s/it]"
          ]
        },
        {
          "output_type": "stream",
          "name": "stdout",
          "text": [
            "Error fetching http://tslas.thapar.edu/misces/pages/iso: 404 Client Error: Not Found for url: https://tslas.thapar.edu/misces/pages/iso\n"
          ]
        },
        {
          "output_type": "stream",
          "name": "stderr",
          "text": [
            "\r 13%|█▎        | 557/4342 [14:39<1:52:19,  1.78s/it]"
          ]
        },
        {
          "output_type": "stream",
          "name": "stdout",
          "text": [
            "Error fetching http://tslas.thapar.edu/misces/pages/openings: 404 Client Error: Not Found for url: https://tslas.thapar.edu/misces/pages/openings\n"
          ]
        },
        {
          "output_type": "stream",
          "name": "stderr",
          "text": [
            "\r 13%|█▎        | 558/4342 [14:41<1:51:56,  1.78s/it]"
          ]
        },
        {
          "output_type": "stream",
          "name": "stdout",
          "text": [
            "Error fetching http://tslas.thapar.edu/misces/pages/insurance: 404 Client Error: Not Found for url: https://tslas.thapar.edu/misces/pages/insurance\n"
          ]
        },
        {
          "output_type": "stream",
          "name": "stderr",
          "text": [
            "\r 13%|█▎        | 559/4342 [14:43<1:51:20,  1.77s/it]"
          ]
        },
        {
          "output_type": "stream",
          "name": "stdout",
          "text": [
            "Error fetching http://tslas.thapar.edu/misces/pages/elibrary: 404 Client Error: Not Found for url: https://tslas.thapar.edu/misces/pages/elibrary\n"
          ]
        },
        {
          "output_type": "stream",
          "name": "stderr",
          "text": [
            "\r 13%|█▎        | 560/4342 [14:45<1:51:55,  1.78s/it]"
          ]
        },
        {
          "output_type": "stream",
          "name": "stdout",
          "text": [
            "Error fetching http://tslas.thapar.edu/misces/pages/financial-aid: 404 Client Error: Not Found for url: https://tslas.thapar.edu/misces/pages/financial-aid\n"
          ]
        },
        {
          "output_type": "stream",
          "name": "stderr",
          "text": [
            "\r 13%|█▎        | 561/4342 [14:46<1:51:59,  1.78s/it]"
          ]
        },
        {
          "output_type": "stream",
          "name": "stdout",
          "text": [
            "Error fetching http://tslas.thapar.edu/misces/pages/workshops: 404 Client Error: Not Found for url: https://tslas.thapar.edu/misces/pages/workshops\n"
          ]
        },
        {
          "output_type": "stream",
          "name": "stderr",
          "text": [
            "\r 13%|█▎        | 562/4342 [14:48<1:51:11,  1.77s/it]"
          ]
        },
        {
          "output_type": "stream",
          "name": "stdout",
          "text": [
            "Error fetching http://tslas.thapar.edu/misces/pages/scholarships: 404 Client Error: Not Found for url: https://tslas.thapar.edu/misces/pages/scholarships\n"
          ]
        },
        {
          "output_type": "stream",
          "name": "stderr",
          "text": [
            "\r 13%|█▎        | 563/4342 [14:50<1:50:41,  1.76s/it]"
          ]
        },
        {
          "output_type": "stream",
          "name": "stdout",
          "text": [
            "Error fetching http://tslas.thapar.edu/misces/pages/inspirus: 404 Client Error: Not Found for url: https://tslas.thapar.edu/misces/pages/inspirus\n"
          ]
        },
        {
          "output_type": "stream",
          "name": "stderr",
          "text": [
            "\r 13%|█▎        | 564/4342 [14:52<1:50:14,  1.75s/it]"
          ]
        },
        {
          "output_type": "stream",
          "name": "stdout",
          "text": [
            "Error fetching http://tslas.thapar.edu/misces/pages/urja-2018: 404 Client Error: Not Found for url: https://tslas.thapar.edu/misces/pages/urja-2018\n"
          ]
        },
        {
          "output_type": "stream",
          "name": "stderr",
          "text": [
            "\r 13%|█▎        | 565/4342 [14:53<1:50:38,  1.76s/it]"
          ]
        },
        {
          "output_type": "stream",
          "name": "stdout",
          "text": [
            "Error fetching http://tslas.thapar.edu/misces/pages/aqar: 404 Client Error: Not Found for url: https://tslas.thapar.edu/misces/pages/aqar\n"
          ]
        },
        {
          "output_type": "stream",
          "name": "stderr",
          "text": [
            "\r 13%|█▎        | 566/4342 [14:55<1:50:50,  1.76s/it]"
          ]
        },
        {
          "output_type": "stream",
          "name": "stdout",
          "text": [
            "Error fetching http://tslas.thapar.edu/misces/pages/2018-19: 404 Client Error: Not Found for url: https://tslas.thapar.edu/misces/pages/2018-19\n"
          ]
        },
        {
          "output_type": "stream",
          "name": "stderr",
          "text": [
            "\r 13%|█▎        | 567/4342 [14:57<1:50:45,  1.76s/it]"
          ]
        },
        {
          "output_type": "stream",
          "name": "stdout",
          "text": [
            "Error fetching http://tslas.thapar.edu/misces/pages/webkiosk: 404 Client Error: Not Found for url: https://tslas.thapar.edu/misces/pages/webkiosk\n"
          ]
        },
        {
          "output_type": "stream",
          "name": "stderr",
          "text": [
            "\r 13%|█▎        | 568/4342 [14:59<1:51:25,  1.77s/it]"
          ]
        },
        {
          "output_type": "stream",
          "name": "stdout",
          "text": [
            "Error fetching http://tslas.thapar.edu/misces/pages/email: 404 Client Error: Not Found for url: https://tslas.thapar.edu/misces/pages/email\n"
          ]
        },
        {
          "output_type": "stream",
          "name": "stderr",
          "text": [
            "\r 13%|█▎        | 569/4342 [15:01<1:51:01,  1.77s/it]"
          ]
        },
        {
          "output_type": "stream",
          "name": "stdout",
          "text": [
            "Error fetching http://tslas.thapar.edu/misces/pages/forms: 404 Client Error: Not Found for url: https://tslas.thapar.edu/misces/pages/forms\n"
          ]
        },
        {
          "output_type": "stream",
          "name": "stderr",
          "text": [
            "\r 13%|█▎        | 570/4342 [15:02<1:51:17,  1.77s/it]"
          ]
        },
        {
          "output_type": "stream",
          "name": "stdout",
          "text": [
            "Error fetching http://tslas.thapar.edu/misces/pages/student-forms: 404 Client Error: Not Found for url: https://tslas.thapar.edu/misces/pages/student-forms\n"
          ]
        },
        {
          "output_type": "stream",
          "name": "stderr",
          "text": [
            "\r 13%|█▎        | 571/4342 [15:04<1:50:41,  1.76s/it]"
          ]
        },
        {
          "output_type": "stream",
          "name": "stdout",
          "text": [
            "Error fetching http://tslas.thapar.edu/misces/examinationupdates: 404 Client Error: Not Found for url: https://tslas.thapar.edu/misces/examinationupdates\n"
          ]
        },
        {
          "output_type": "stream",
          "name": "stderr",
          "text": [
            "\r 13%|█▎        | 572/4342 [15:06<1:50:48,  1.76s/it]"
          ]
        },
        {
          "output_type": "stream",
          "name": "stdout",
          "text": [
            "Error fetching http://tslas.thapar.edu/aboutus/pages/history: 404 Client Error: Not Found for url: https://tslas.thapar.edu/aboutus/pages/history\n"
          ]
        },
        {
          "output_type": "stream",
          "name": "stderr",
          "text": [
            "\r 13%|█▎        | 573/4342 [15:08<1:49:41,  1.75s/it]"
          ]
        },
        {
          "output_type": "stream",
          "name": "stdout",
          "text": [
            "Error fetching http://tslas.thapar.edu/aboutus/pages/vision: 404 Client Error: Not Found for url: https://tslas.thapar.edu/aboutus/pages/vision\n"
          ]
        },
        {
          "output_type": "stream",
          "name": "stderr",
          "text": [
            "\r 13%|█▎        | 574/4342 [15:09<1:51:13,  1.77s/it]"
          ]
        },
        {
          "output_type": "stream",
          "name": "stdout",
          "text": [
            "Error fetching http://tslas.thapar.edu/aboutus/pages/directorate: 404 Client Error: Not Found for url: https://tslas.thapar.edu/aboutus/pages/directorate\n"
          ]
        },
        {
          "output_type": "stream",
          "name": "stderr",
          "text": [
            "\r 13%|█▎        | 575/4342 [15:11<1:50:39,  1.76s/it]"
          ]
        },
        {
          "output_type": "stream",
          "name": "stdout",
          "text": [
            "Error fetching http://tslas.thapar.edu/aboutus/pages/deans: 404 Client Error: Not Found for url: https://tslas.thapar.edu/aboutus/pages/deans\n"
          ]
        },
        {
          "output_type": "stream",
          "name": "stderr",
          "text": [
            "\r 13%|█▎        | 576/4342 [15:13<1:50:12,  1.76s/it]"
          ]
        },
        {
          "output_type": "stream",
          "name": "stdout",
          "text": [
            "Error fetching http://tslas.thapar.edu/aboutus/pages/organogram: 404 Client Error: Not Found for url: https://tslas.thapar.edu/aboutus/pages/organogram\n"
          ]
        },
        {
          "output_type": "stream",
          "name": "stderr",
          "text": [
            "\r 13%|█▎        | 577/4342 [15:15<1:49:23,  1.74s/it]"
          ]
        },
        {
          "output_type": "stream",
          "name": "stdout",
          "text": [
            "Error fetching http://tslas.thapar.edu/aboutus/pages/senate: 404 Client Error: Not Found for url: https://tslas.thapar.edu/aboutus/pages/senate\n"
          ]
        },
        {
          "output_type": "stream",
          "name": "stderr",
          "text": [
            "\r 13%|█▎        | 578/4342 [15:16<1:49:33,  1.75s/it]"
          ]
        },
        {
          "output_type": "stream",
          "name": "stdout",
          "text": [
            "Error fetching http://tslas.thapar.edu/aboutus/news: 404 Client Error: Not Found for url: https://tslas.thapar.edu/aboutus/news\n"
          ]
        },
        {
          "output_type": "stream",
          "name": "stderr",
          "text": [
            "\r 13%|█▎        | 579/4342 [15:18<1:49:30,  1.75s/it]"
          ]
        },
        {
          "output_type": "stream",
          "name": "stdout",
          "text": [
            "Error fetching http://tslas.thapar.edu/aboutus/pages/directory: 404 Client Error: Not Found for url: https://tslas.thapar.edu/aboutus/pages/directory\n"
          ]
        },
        {
          "output_type": "stream",
          "name": "stderr",
          "text": [
            "\r 13%|█▎        | 580/4342 [15:20<1:49:34,  1.75s/it]"
          ]
        },
        {
          "output_type": "stream",
          "name": "stdout",
          "text": [
            "Error fetching http://tslas.thapar.edu/aboutus/pages/university: 404 Client Error: Not Found for url: https://tslas.thapar.edu/aboutus/pages/university\n"
          ]
        },
        {
          "output_type": "stream",
          "name": "stderr",
          "text": [
            "\r 13%|█▎        | 581/4342 [15:22<1:49:52,  1.75s/it]"
          ]
        },
        {
          "output_type": "stream",
          "name": "stdout",
          "text": [
            "Error fetching http://tslas.thapar.edu/students/pages/hostels: 404 Client Error: Not Found for url: https://tslas.thapar.edu/students/pages/hostels\n"
          ]
        },
        {
          "output_type": "stream",
          "name": "stderr",
          "text": [
            "\r 13%|█▎        | 582/4342 [15:23<1:50:01,  1.76s/it]"
          ]
        },
        {
          "output_type": "stream",
          "name": "stdout",
          "text": [
            "Error fetching http://tslas.thapar.edu/students/pages/insurance: 404 Client Error: Not Found for url: https://tslas.thapar.edu/students/pages/insurance\n"
          ]
        },
        {
          "output_type": "stream",
          "name": "stderr",
          "text": [
            "\r 13%|█▎        | 583/4342 [15:25<1:52:13,  1.79s/it]"
          ]
        },
        {
          "output_type": "stream",
          "name": "stdout",
          "text": [
            "Error fetching http://tslas.thapar.edu/students/pages/webkiosk: 404 Client Error: Not Found for url: https://tslas.thapar.edu/students/pages/webkiosk\n"
          ]
        },
        {
          "output_type": "stream",
          "name": "stderr",
          "text": [
            "\r 13%|█▎        | 584/4342 [15:27<1:51:25,  1.78s/it]"
          ]
        },
        {
          "output_type": "stream",
          "name": "stdout",
          "text": [
            "Error fetching http://tslas.thapar.edu/outreaches/pages/sai-labs: 404 Client Error: Not Found for url: https://tslas.thapar.edu/outreaches/pages/sai-labs\n"
          ]
        },
        {
          "output_type": "stream",
          "name": "stderr",
          "text": [
            "\r 13%|█▎        | 585/4342 [15:29<1:50:38,  1.77s/it]"
          ]
        },
        {
          "output_type": "stream",
          "name": "stdout",
          "text": [
            "Error fetching http://tslas.thapar.edu/outreaches/pages/social: 404 Client Error: Not Found for url: https://tslas.thapar.edu/outreaches/pages/social\n"
          ]
        },
        {
          "output_type": "stream",
          "name": "stderr",
          "text": [
            "\r 13%|█▎        | 586/4342 [15:30<1:50:19,  1.76s/it]"
          ]
        },
        {
          "output_type": "stream",
          "name": "stdout",
          "text": [
            "Error fetching http://tslas.thapar.edu/outreaches/moues: 404 Client Error: Not Found for url: https://tslas.thapar.edu/outreaches/moues\n"
          ]
        },
        {
          "output_type": "stream",
          "name": "stderr",
          "text": [
            "\r 14%|█▎        | 587/4342 [15:32<1:49:53,  1.76s/it]"
          ]
        },
        {
          "output_type": "stream",
          "name": "stdout",
          "text": [
            "Error fetching http://tslas.thapar.edu/misces/latestpages/opening: 404 Client Error: Not Found for url: https://tslas.thapar.edu/misces/latestpages/opening\n"
          ]
        },
        {
          "output_type": "stream",
          "name": "stderr",
          "text": [
            "\r 14%|█▎        | 588/4342 [15:34<1:50:03,  1.76s/it]"
          ]
        },
        {
          "output_type": "stream",
          "name": "stdout",
          "text": [
            "Error fetching http://tslas.thapar.edu/misces/latestpages/notices: 404 Client Error: Not Found for url: https://tslas.thapar.edu/misces/latestpages/notices\n"
          ]
        },
        {
          "output_type": "stream",
          "name": "stderr",
          "text": [
            " 14%|█▎        | 594/4342 [15:44<1:42:23,  1.64s/it]"
          ]
        },
        {
          "output_type": "stream",
          "name": "stdout",
          "text": [
            "Error fetching http://www.ntcsf2019.thapar.edu: 404 Client Error: Not Found for url: http://www.ntcsf2019.thapar.edu/\n"
          ]
        },
        {
          "output_type": "stream",
          "name": "stderr",
          "text": [
            " 15%|█▍        | 639/4342 [18:59<1:35:14,  1.54s/it]"
          ]
        }
      ],
      "source": [
        "# Add a delay between requests to avoid overwhelming the server\n",
        "DELAY = 1  # seconds\n",
        "\n",
        "email = set()\n",
        "for i in tqdm(links_data_arr):\n",
        "    try:\n",
        "        r = session.get(i)\n",
        "        r.raise_for_status()  # Check for HTTP errors\n",
        "        for re_match in re.finditer(EMAIL_REGEX, r.html.raw_html.decode()):\n",
        "            email.add(((re_match.group())).replace(\"-\", \"\"))\n",
        "    except requests.exceptions.RequestException as e:\n",
        "        print(f\"Error fetching {i}: {e}\")\n",
        "    time.sleep(DELAY)  # Wait before making the next request"
      ]
    },
    {
      "cell_type": "code",
      "execution_count": 7,
      "metadata": {
        "execution": {
          "iopub.execute_input": "2022-12-26T10:18:56.632354Z",
          "iopub.status.busy": "2022-12-26T10:18:56.631963Z",
          "iopub.status.idle": "2022-12-26T10:18:56.641790Z",
          "shell.execute_reply": "2022-12-26T10:18:56.640417Z",
          "shell.execute_reply.started": "2022-12-26T10:18:56.632323Z"
        },
        "trusted": true,
        "id": "QY1HjTyfjaHQ"
      },
      "outputs": [],
      "source": [
        "df = pd.DataFrame(email)\n",
        "df.to_csv('Emails.csv', index=False)"
      ]
    }
  ],
  "metadata": {
    "kernelspec": {
      "display_name": "Python 3",
      "language": "python",
      "name": "python3"
    },
    "language_info": {
      "codemirror_mode": {
        "name": "ipython",
        "version": 3
      },
      "file_extension": ".py",
      "mimetype": "text/x-python",
      "name": "python",
      "nbconvert_exporter": "python",
      "pygments_lexer": "ipython3",
      "version": "3.7.12"
    },
    "colab": {
      "provenance": [],
      "include_colab_link": true
    }
  },
  "nbformat": 4,
  "nbformat_minor": 0
}